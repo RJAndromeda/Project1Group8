{
 "cells": [
  {
   "cell_type": "code",
   "execution_count": 4,
   "id": "0fb29359",
   "metadata": {},
   "outputs": [],
   "source": [
    "import pandas as pd\n",
    "from pathlib import Path\n",
    "\n",
    "world_air_death = Path(\"Resources/death-rates-from-air-pollution.csv\")\n",
    "          \n",
    "co2_emission_annual=Path(\"Resources/annual-co2-emissions-per-country.csv\")\n",
    "\n",
    "death_data = pd.read_csv(world_air_death)\n",
    "co2_data=pd.read_csv(co2_emission_annual)\n",
    "\n"
   ]
  },
  {
   "cell_type": "code",
   "execution_count": null,
   "id": "a6dc8d02",
   "metadata": {},
   "outputs": [],
   "source": [
    "death_data=death_data.dropna(how='any')\n",
    "death_data=death_data.rename(columns={'Entity':'Country','Air pollution (total) (deaths per 100,000)':'Air pollution(deaths per 100,000)'})\n",
    "death_data=death_data.groupby(\"Country\")['Air pollution(deaths per 100,000)'].mean().reset_index()\n",
    "death_data.head()"
   ]
  },
  {
   "cell_type": "code",
   "execution_count": null,
   "id": "803f6fbe",
   "metadata": {},
   "outputs": [],
   "source": [
    "death_data.to_csv(\"death_air_pollution.csv\",index=False,header=True)"
   ]
  },
  {
   "cell_type": "code",
   "execution_count": null,
   "id": "82807925",
   "metadata": {},
   "outputs": [],
   "source": [
    "co2_data=co2_data.dropna(how='any')\n",
    "del co2_data['Code']\n",
    "\n",
    "co2_data.rename(columns={'Entity':'Country'},inplace=True)\n",
    "co2_data\n"
   ]
  },
  {
   "cell_type": "code",
   "execution_count": 2,
   "id": "676352db",
   "metadata": {},
   "outputs": [
    {
     "ename": "NameError",
     "evalue": "name 'co2_data' is not defined",
     "output_type": "error",
     "traceback": [
      "\u001b[1;31m---------------------------------------------------------------------------\u001b[0m",
      "\u001b[1;31mNameError\u001b[0m                                 Traceback (most recent call last)",
      "Cell \u001b[1;32mIn[2], line 1\u001b[0m\n\u001b[1;32m----> 1\u001b[0m y_2000\u001b[38;5;241m=\u001b[39mpd\u001b[38;5;241m.\u001b[39mDataFrame(\u001b[43mco2_data\u001b[49m\u001b[38;5;241m.\u001b[39mloc[co2_data[\u001b[38;5;124m'\u001b[39m\u001b[38;5;124mYear\u001b[39m\u001b[38;5;124m'\u001b[39m]\u001b[38;5;241m==\u001b[39m\u001b[38;5;241m2000\u001b[39m])\n\u001b[0;32m      2\u001b[0m \u001b[38;5;28;01mdel\u001b[39;00m y_2000[\u001b[38;5;124m'\u001b[39m\u001b[38;5;124mYear\u001b[39m\u001b[38;5;124m'\u001b[39m]\n\u001b[0;32m      3\u001b[0m y_2000\u001b[38;5;241m.\u001b[39mrename(columns\u001b[38;5;241m=\u001b[39m{\u001b[38;5;124m\"\u001b[39m\u001b[38;5;124mAnnual CO₂ emissions\u001b[39m\u001b[38;5;124m\"\u001b[39m:\u001b[38;5;124m'\u001b[39m\u001b[38;5;124mCO₂ Emission(2000)\u001b[39m\u001b[38;5;124m'\u001b[39m},inplace\u001b[38;5;241m=\u001b[39m\u001b[38;5;28;01mTrue\u001b[39;00m)\n",
      "\u001b[1;31mNameError\u001b[0m: name 'co2_data' is not defined"
     ]
    }
   ],
   "source": [
    "y_2000=pd.DataFrame(co2_data.loc[co2_data['Year']==2000])\n",
    "del y_2000['Year']\n",
    "y_2000.rename(columns={\"Annual CO₂ emissions\":'CO₂ Emission(2000)'},inplace=True)\n",
    "\n",
    "y_2005=pd.DataFrame(co2_data.loc[co2_data['Year']==2005])\n",
    "del y_2005['Year']\n",
    "y_2005.rename(columns={\"Annual CO₂ emissions\":'CO₂ Emission(2005)'},inplace=True)\n",
    "\n",
    "y_2010=pd.DataFrame(co2_data.loc[co2_data['Year']==2010])\n",
    "del y_2010['Year']\n",
    "y_2010.rename(columns={\"Annual CO₂ emissions\":'CO₂ Emission(2010)'},inplace=True)\n",
    "\n",
    "y_2015=pd.DataFrame(co2_data.loc[co2_data['Year']==2015])\n",
    "del y_2015['Year']\n",
    "y_2015.rename(columns={\"Annual CO₂ emissions\":'CO₂ Emission(2015)'},inplace=True)\n",
    "\n",
    "y_2020=pd.DataFrame(co2_data.loc[co2_data['Year']==2020])\n",
    "del y_2020['Year']\n",
    "y_2020.rename(columns={\"Annual CO₂ emissions\":'CO₂ Emission(2020)'},inplace=True)\n",
    "\n",
    "y_2021=pd.DataFrame(co2_data.loc[co2_data['Year']==2021])\n",
    "del y_2021['Year']\n",
    "y_2021.rename(columns={\"Annual CO₂ emissions\":'CO₂ Emission(2021)'},inplace=True)\n",
    "\n",
    "\n",
    "co2_data_years=pd.DataFrame({})\n",
    "\n",
    "co2_data_years=pd.merge(y_2000,y_2005,on='Country')\n",
    "\n",
    "co2_data_years=co2_data_years.merge(y_2010,on='Country')\n",
    "co2_data_years=co2_data_years.merge(y_2015,on='Country')\n",
    "co2_data_years=co2_data_years.merge(y_2020,on='Country')\n",
    "co2_data_years=co2_data_years.merge(y_2021,on='Country')\n",
    "\n",
    "co2_data_years"
   ]
  },
  {
   "cell_type": "code",
   "execution_count": 3,
   "id": "bb1955bd",
   "metadata": {},
   "outputs": [
    {
     "ename": "NameError",
     "evalue": "name 'co2_data_years' is not defined",
     "output_type": "error",
     "traceback": [
      "\u001b[1;31m---------------------------------------------------------------------------\u001b[0m",
      "\u001b[1;31mNameError\u001b[0m                                 Traceback (most recent call last)",
      "Cell \u001b[1;32mIn[3], line 1\u001b[0m\n\u001b[1;32m----> 1\u001b[0m \u001b[43mco2_data_years\u001b[49m\u001b[38;5;241m.\u001b[39mto_csv(\u001b[38;5;124m\"\u001b[39m\u001b[38;5;124mco2_emission_years.csv\u001b[39m\u001b[38;5;124m\"\u001b[39m,index\u001b[38;5;241m=\u001b[39m\u001b[38;5;28;01mFalse\u001b[39;00m,header\u001b[38;5;241m=\u001b[39m\u001b[38;5;28;01mTrue\u001b[39;00m)\n",
      "\u001b[1;31mNameError\u001b[0m: name 'co2_data_years' is not defined"
     ]
    }
   ],
   "source": [
    "co2_data_years.to_csv(\"co2_emission_years.csv\",index=False,header=True)"
   ]
  },
  {
   "cell_type": "code",
   "execution_count": null,
   "id": "78bf69e6",
   "metadata": {},
   "outputs": [],
   "source": []
  },
  {
   "cell_type": "code",
   "execution_count": null,
   "id": "bf89c5f3",
   "metadata": {},
   "outputs": [],
   "source": []
  }
 ],
 "metadata": {
  "kernelspec": {
   "display_name": "Python 3 (ipykernel)",
   "language": "python",
   "name": "python3"
  },
  "language_info": {
   "codemirror_mode": {
    "name": "ipython",
    "version": 3
   },
   "file_extension": ".py",
   "mimetype": "text/x-python",
   "name": "python",
   "nbconvert_exporter": "python",
   "pygments_lexer": "ipython3",
   "version": "3.10.11"
  }
 },
 "nbformat": 4,
 "nbformat_minor": 5
}
