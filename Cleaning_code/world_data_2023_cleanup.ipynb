{
 "cells": [
  {
   "cell_type": "markdown",
   "id": "98886b99",
   "metadata": {},
   "source": [
    "# Initial clean-up of world data set\n",
    "\n",
    "\n",
    "Dataset from: https://www.kaggle.com/datasets/nelgiriyewithana/countries-of-the-world-2023, Author: NIDULA ELGIRIYEWITHANA, accessed 11/7/2023"
   ]
  },
  {
   "cell_type": "code",
   "execution_count": 1,
   "id": "ab655615",
   "metadata": {},
   "outputs": [],
   "source": [
    "# Dependencies\n",
    "from pathlib import Path\n",
    "import pandas as pd\n",
    "import numpy as np"
   ]
  },
  {
   "cell_type": "code",
   "execution_count": 2,
   "id": "be09364a",
   "metadata": {},
   "outputs": [],
   "source": [
    "# Path variable\n",
    "world_data_2023 = Path('world-data-2023.csv')"
   ]
  },
  {
   "cell_type": "code",
   "execution_count": null,
   "id": "f1d37a7c",
   "metadata": {},
   "outputs": [],
   "source": [
    "# Read the CSV in pandas\n",
    "world_data_2023 = pd.read_csv(world_data_2023)"
   ]
  },
  {
   "cell_type": "code",
   "execution_count": null,
   "id": "0b98f035",
   "metadata": {},
   "outputs": [],
   "source": [
    "#Reorder columns for ease of analysis, and remove columns that are not relevant: Armed Forces, Abbreviation, \n",
    "#Calling Code, Currency, #Offical Language, Physicians per thousand, Minimum wage\n",
    "\n",
    "organised_world_data = pd.DataFrame(world_data_2023[[\"Country\",\"Capital/Major City\",\"Density(P/Km2)\",\"Population\",\"Urban_population\",\\\n",
    "                                        \"Land Area(Km2)\", \"Agricultural Land( %)\",\"Forested Area (%)\",\"Co2-Emissions\",\"GDP\",\\\n",
    "                                        \"Life expectancy\",\"Birth Rate\",\"Maternal mortality ratio\",\"Infant mortality\",\\\n",
    "                                        \"Latitude\",\"Longitude\"]])"
   ]
  },
  {
   "cell_type": "code",
   "execution_count": null,
   "id": "51d29a20",
   "metadata": {},
   "outputs": [],
   "source": [
    "# Check row counts and type for each\n",
    "organised_world_data['Forested Area (%)']=organised_world_data['Forested Area (%)'].str.replace(\"%\",\"\")\n",
    "organised_world_data[\"Agricultural Land( %)\"]=organised_world_data[\"Agricultural Land( %)\"].str.replace(\"%\",\"\")\n",
    "organised_world_data[\"GDP\"]=organised_world_data[\"GDP\"].str.replace(\"$\",\"\",regex=True)\n",
    "organised_world_data.head()\n"
   ]
  },
  {
   "cell_type": "code",
   "execution_count": null,
   "id": "a173e99d",
   "metadata": {
    "scrolled": true
   },
   "outputs": [],
   "source": [
    "#Drop those rows with incomplete data\n",
    "\n",
    "organised_world_data = organised_world_data.dropna(how='any')\n",
    "organised_world_data.set_index([\"Country\"])"
   ]
  },
  {
   "cell_type": "code",
   "execution_count": null,
   "id": "44eb789d",
   "metadata": {},
   "outputs": [],
   "source": [
    "organised_world_data['GDP']=organised_world_data['GDP'].str.replace(\",\",\"\").astype(\"int64\")\n",
    "organised_world_data['Population']=organised_world_data['Population'].str.replace(\",\",\"\").astype(\"int64\")\n",
    "organised_world_data['Urban_population']=organised_world_data['Urban_population'].str.replace(\",\",\"\").astype(\"int64\")\n",
    "organised_world_data['Land Area(Km2)']=organised_world_data['Land Area(Km2)'].str.replace(\",\",\"\").astype(\"int64\")\n",
    "organised_world_data['Co2-Emissions']=organised_world_data['Co2-Emissions'].str.replace(\",\",\"\").astype(\"int64\")\n",
    "organised_world_data['Agricultural Land( %)']=organised_world_data['Agricultural Land( %)'].astype(\"float\")\n",
    "organised_world_data['Forested Area (%)']=organised_world_data['Forested Area (%)'].astype(\"float\")"
   ]
  },
  {
   "cell_type": "code",
   "execution_count": null,
   "id": "b4902e02",
   "metadata": {},
   "outputs": [],
   "source": [
    "organised_world_data.dtypes"
   ]
  },
  {
   "cell_type": "code",
   "execution_count": null,
   "id": "cee7398e",
   "metadata": {},
   "outputs": [],
   "source": [
    "organised_world_data.to_csv(\"organised_world_data.csv\", index = False, header = True)"
   ]
  },
  {
   "cell_type": "code",
   "execution_count": null,
   "id": "a64fe5f7",
   "metadata": {},
   "outputs": [],
   "source": []
  },
  {
   "cell_type": "code",
   "execution_count": null,
   "id": "3b7922df",
   "metadata": {},
   "outputs": [],
   "source": []
  }
 ],
 "metadata": {
  "kernelspec": {
   "display_name": "Python 3 (ipykernel)",
   "language": "python",
   "name": "python3"
  },
  "language_info": {
   "codemirror_mode": {
    "name": "ipython",
    "version": 3
   },
   "file_extension": ".py",
   "mimetype": "text/x-python",
   "name": "python",
   "nbconvert_exporter": "python",
   "pygments_lexer": "ipython3",
   "version": "3.10.11"
  }
 },
 "nbformat": 4,
 "nbformat_minor": 5
}
