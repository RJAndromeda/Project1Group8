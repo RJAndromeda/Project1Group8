{
 "cells": [
  {
   "cell_type": "code",
   "execution_count": 1,
   "id": "e03e4de0",
   "metadata": {},
   "outputs": [],
   "source": [
    "import pandas as pd\n",
    "from pathlib import Path"
   ]
  },
  {
   "cell_type": "code",
   "execution_count": 2,
   "id": "2737a4b5",
   "metadata": {},
   "outputs": [],
   "source": [
    "world_data = Path(\"Priya_Resources/organised_world_data.csv\")\n",
    "death_data=Path(\"Priya_Resources/death_air_pollution.csv\")\n",
    "world_air_data=Path(\"Priya_Resources/country_air_quality.csv\")\n",
    "co2_emission_data=Path(\"Priya_Resources/co2_emission_years.csv\")\n",
    "\n",
    "world_data_df = pd.read_csv(world_data)\n",
    "death_data_df=pd.read_csv(death_data)\n",
    "air_data_df=pd.read_csv(world_air_data)\n",
    "co2_data_df=pd.read_csv(co2_emission_data)\n"
   ]
  },
  {
   "cell_type": "code",
   "execution_count": 3,
   "id": "50ff03d4",
   "metadata": {},
   "outputs": [
    {
     "data": {
      "text/plain": [
       "Index(['Country', 'Capital/Major City', 'Density(P/Km2)', 'Population',\n",
       "       'Urban_population', 'Land Area(Km2)', 'Agricultural Land( %)',\n",
       "       'Forested Area (%)', 'Co2-Emissions', 'GDP', 'Latitude', 'Longitude',\n",
       "       'Air pollution(deaths per 100,000)', 'CO', 'NH3', 'NO', 'NO2', 'O3',\n",
       "       'PM10', 'PM2_5', 'SO2', 'AQI', 'CO₂ Emission(2000)',\n",
       "       'CO₂ Emission(2005)', 'CO₂ Emission(2010)', 'CO₂ Emission(2015)',\n",
       "       'CO₂ Emission(2020)', 'CO₂ Emission(2021)'],\n",
       "      dtype='object')"
      ]
     },
     "execution_count": 3,
     "metadata": {},
     "output_type": "execute_result"
    }
   ],
   "source": [
    "merge_data_df=pd.merge(world_data_df,death_data_df,on=[\"Country\"],how='inner')\n",
    "\n",
    "merge_data_df=merge_data_df.merge(air_data_df,on=['Country'],how='inner')\n",
    "\n",
    "merge_data_df=merge_data_df.merge(co2_data_df,on=['Country'],how='inner')\n",
    "\n",
    "merge_data_df=merge_data_df.dropna(how='any')\n",
    "\n",
    "merge_data_df.drop(['City','Life expectancy','Birth Rate', 'Maternal mortality ratio', 'Infant mortality'],axis=1, inplace=True)\n",
    "\n",
    "merge_data_df.columns"
   ]
  },
  {
   "cell_type": "code",
   "execution_count": 4,
   "id": "72ca6639",
   "metadata": {},
   "outputs": [],
   "source": [
    "merge_data_df.to_csv(\"Priya_Resources/merged_world_data.csv\",index=False,header=True)"
   ]
  },
  {
   "cell_type": "code",
   "execution_count": null,
   "id": "7ee9585a",
   "metadata": {},
   "outputs": [],
   "source": []
  }
 ],
 "metadata": {
  "kernelspec": {
   "display_name": "Python 3 (ipykernel)",
   "language": "python",
   "name": "python3"
  },
  "language_info": {
   "codemirror_mode": {
    "name": "ipython",
    "version": 3
   },
   "file_extension": ".py",
   "mimetype": "text/x-python",
   "name": "python",
   "nbconvert_exporter": "python",
   "pygments_lexer": "ipython3",
   "version": "3.10.11"
  }
 },
 "nbformat": 4,
 "nbformat_minor": 5
}
